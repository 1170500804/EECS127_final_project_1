{
 "cells": [
  {
   "cell_type": "markdown",
   "metadata": {
    "colab_type": "text",
    "id": "tVYA302cLyfP"
   },
   "source": [
    "# Provable Robustness for Deep Classifiers"
   ]
  },
  {
   "cell_type": "markdown",
   "metadata": {
    "colab_type": "text",
    "id": "3LbEBZGKLyfZ"
   },
   "source": [
    "In this notebook, we will implement the robustness certificate that we derived in the PDF. That is, we will first define and train a three-layer neural classifier; then, we will calculate its dual, and using this, check whether the classifier is dual at given input points.\n",
    "\n",
    "**Your task is to fill in any sections labeled TODO in the code and answer the bolded questions.**"
   ]
  },
  {
   "cell_type": "markdown",
   "metadata": {
    "colab_type": "text",
    "id": "lSv1e7M36T5D"
   },
   "source": [
    "## Torch"
   ]
  },
  {
   "cell_type": "markdown",
   "metadata": {
    "colab_type": "text",
    "id": "GJMgQYklLyfd"
   },
   "source": [
    "We are using torch here; for our purposes, we can think of torch as essentially numpy with GPU support and and automatic differentiation. That is, for any function we compute, torch automatically keeps track of the function's gradient with respect to inputs; this will make gradient descent much easier to implement. \n",
    "\n",
    "The primary object you will need to manipulate here is `torch.Tensor`, which can be thought of as equivalent to  `np.array`. Indexing, splicing, multiplication, etc. will work like you would expect them to in numpy.\n",
    "\n",
    "Also, most of the numpy functions you are used to are present in torch, with the same name. E.g:\n",
    "* `np.max(input, axis)` --> `torch.max(input, dim)` (Note that `torch.max` actually returns a tuple of the max and argmax).\n",
    "* `np.zeros` --> `torch.zeros`\n",
    "* `np.eye` --> `torch.eye`\n",
    "* `np.linalg.norm(x, ord, axis)` --> `torch.norm(input, p, dim)`\n",
    "\n",
    "For more information, refer to the [torch documentation](https://pytorch.org/docs/stable/torch.html) or the [torch tutorials](https://pytorch.org/tutorials/)."
   ]
  },
  {
   "cell_type": "markdown",
   "metadata": {
    "colab_type": "text",
    "id": "L3ChNfnaLBbw"
   },
   "source": [
    "## Setup"
   ]
  },
  {
   "cell_type": "markdown",
   "metadata": {
    "colab_type": "text",
    "id": "PczgocJtLBb0"
   },
   "source": [
    "Here, we import the relevant libraries."
   ]
  },
  {
   "cell_type": "code",
   "execution_count": 0,
   "metadata": {
    "colab": {},
    "colab_type": "code",
    "id": "y3oepvCSLyfi"
   },
   "outputs": [],
   "source": [
    "import torch\n",
    "import torchvision\n",
    "import torchvision.transforms as transforms\n",
    "import torch.nn as nn\n",
    "import torch.nn.functional as F\n",
    "import torch.optim as optim\n",
    "\n",
    "import numpy as np\n",
    "import matplotlib.pyplot as plt\n",
    "%matplotlib inline \n",
    "import copy"
   ]
  },
  {
   "cell_type": "markdown",
   "metadata": {
    "colab_type": "text",
    "id": "DPbnELbsLBcM"
   },
   "source": [
    "This line tells torch to use the GPU if available, and otherwise the CPU."
   ]
  },
  {
   "cell_type": "code",
   "execution_count": 44,
   "metadata": {
    "colab": {
     "base_uri": "https://localhost:8080/",
     "height": 34
    },
    "colab_type": "code",
    "id": "hBpT1WebQ394",
    "outputId": "1c3a8f03-da0b-47be-fc96-be1425dac763"
   },
   "outputs": [
    {
     "name": "stdout",
     "output_type": "stream",
     "text": [
      "cuda:0\n"
     ]
    }
   ],
   "source": [
    "device = torch.device(\"cuda:0\" if torch.cuda.is_available() else \"cpu\")\n",
    "print(device)"
   ]
  },
  {
   "cell_type": "markdown",
   "metadata": {
    "colab_type": "text",
    "id": "awgBbuiRLyf0"
   },
   "source": [
    "Here, we load in the MNIST dataset. The inputs are $28\\times 28$ images of handwritten digits, while the labels are the corresponding digit. Note that we split the data between a training set and a test set. In order to have an unbiased estimate of the classifier's performance, we must train the model only on the training set (**never the test set**), then test its accuracy on the test set."
   ]
  },
  {
   "cell_type": "code",
   "execution_count": 0,
   "metadata": {
    "colab": {},
    "colab_type": "code",
    "id": "q58IyfpGLyf4"
   },
   "outputs": [],
   "source": [
    "transform = transforms.Compose(\n",
    "    [transforms.ToTensor(),\n",
    "     transforms.Normalize((0.5,), (0.5,))])\n",
    "\n",
    "trainset = torchvision.datasets.MNIST(root='./data', train=True, download=True, transform=transform)\n",
    "\n",
    "trainloader = torch.utils.data.DataLoader(trainset, batch_size=4,\n",
    "                                          shuffle=True, num_workers=2)\n",
    "\n",
    "testset = torchvision.datasets.MNIST(root='./data', train=False,\n",
    "                                       download=True, transform=transform)\n",
    "\n",
    "testloader = torch.utils.data.DataLoader(testset, batch_size=4,\n",
    "                                         shuffle=False, num_workers=2)"
   ]
  },
  {
   "cell_type": "markdown",
   "metadata": {
    "colab_type": "text",
    "id": "n4iXn51ILygD"
   },
   "source": [
    "This is a utility function to visualize torch Tensors as images."
   ]
  },
  {
   "cell_type": "code",
   "execution_count": 0,
   "metadata": {
    "colab": {},
    "colab_type": "code",
    "id": "3EkoFimALygG"
   },
   "outputs": [],
   "source": [
    "def imshow(img):\n",
    "    '''\n",
    "    Visualizes IMG.\n",
    "    IMG should be a 2D torch Tensor.\n",
    "    '''\n",
    "    img = img / 2 + 0.5     # unnormalize\n",
    "    npimg = img.detach().numpy()\n",
    "    plt.imshow(npimg, cmap='gray')\n",
    "    plt.show()"
   ]
  },
  {
   "cell_type": "markdown",
   "metadata": {
    "colab_type": "text",
    "id": "Iu56FwY-LBc9"
   },
   "source": [
    "## Primal Network"
   ]
  },
  {
   "cell_type": "markdown",
   "metadata": {
    "colab_type": "text",
    "id": "zAc2QEcALygQ"
   },
   "source": [
    "Here, we define the neural classifier we will be using. Note that the network comprises three layers. The first layer has dimension $28^2$ since this is the size of the input image. (The original inputs are square images, but we flatten them into a $28^2\\times 1$ vector in order to feed them into the network.) The output layer has dimension $10$, since there are ten possible output classes (the digits 0-9). The hidden layer has dimension $256$. (There isn't as much science behind choosing the dimensionality of input layers; we choose $256$ because it is a round number, and is hopefully enough to the neccesary encode information about the input image.)"
   ]
  },
  {
   "cell_type": "code",
   "execution_count": 0,
   "metadata": {
    "colab": {},
    "colab_type": "code",
    "id": "6-joaa2DLygU"
   },
   "outputs": [],
   "source": [
    "class Net(nn.Module):\n",
    "    def __init__(self):\n",
    "        super().__init__()\n",
    "\n",
    "        self.fc1 = nn.Linear(in_features=28*28, out_features = 256)\n",
    "        self.fc2 = nn.Linear(in_features=256, out_features = 10)\n",
    "        self.layers = [self.fc1, self.fc2]\n",
    "\n",
    "  # define forward function\n",
    "    def forward(self, t):\n",
    "        '''\n",
    "        On input T, performs a affine transformation, then\n",
    "        a ReLU, then another affine transformation.\n",
    "        '''\n",
    "        self.z = []\n",
    "        t = t.reshape(-1, 28*28)\n",
    "        t = self.fc1(t)\n",
    "        self.z.append(t)\n",
    "        t = F.relu(t)\n",
    "        t = self.fc2(t)\n",
    "        self.z.append(t)\n",
    "        return t"
   ]
  },
  {
   "cell_type": "markdown",
   "metadata": {
    "colab_type": "text",
    "id": "YTue7LMGLygd"
   },
   "source": [
    "Here is the training code, which uses Adam, a variant of gradient descent. The actual optimization machinery is all abstracted away behind the torch library; all the work is being done by the `optimizer.step()` call."
   ]
  },
  {
   "cell_type": "code",
   "execution_count": 0,
   "metadata": {
    "colab": {},
    "colab_type": "code",
    "id": "4zdMiOXDLygf"
   },
   "outputs": [],
   "source": [
    "def train(net, criterion, trainloader, lr=0.001):\n",
    "    '''\n",
    "    Uses the Adam optimization algorithm to train \n",
    "    the classifier NET on training data from TRAINLOADER,\n",
    "    on loss function CRITERION, with learning rate LR.\n",
    "    \n",
    "    Note that we half the learning rate each epoch.\n",
    "    '''\n",
    "    optimizer = optim.Adam(net.parameters(), lr=lr)\n",
    "    \n",
    "    for epoch in range(3):\n",
    "        for i, data in enumerate(trainloader, 0):\n",
    "            for param_group in optimizer.param_groups:\n",
    "                param_group['lr'] = lr * 0.5 ** (epoch)\n",
    "\n",
    "            inputs, labels = data[0].to(device), data[1].to(device)\n",
    "            optimizer.zero_grad()\n",
    "            outputs = net(inputs)\n",
    "            loss = criterion(outputs, labels)\n",
    "            loss.backward()\n",
    "            optimizer.step()\n",
    "    \n",
    "            if i % 500 == 0:\n",
    "                print('Epoch', epoch, 'Iter:', i, 'Loss', loss.item())"
   ]
  },
  {
   "cell_type": "markdown",
   "metadata": {
    "colab_type": "text",
    "id": "zmx06HSLLyhh"
   },
   "source": [
    "We can now train the net on the training data, using cross entropy loss."
   ]
  },
  {
   "cell_type": "code",
   "execution_count": 49,
   "metadata": {
    "colab": {
     "base_uri": "https://localhost:8080/",
     "height": 1547
    },
    "colab_type": "code",
    "id": "W8pmvL6tLyhj",
    "outputId": "4a61e98c-162a-4b4d-f39a-2eaa82a9eeb5"
   },
   "outputs": [
    {
     "name": "stdout",
     "output_type": "stream",
     "text": [
      "Epoch 0 Iter: 0 Loss 2.289048194885254\n",
      "Epoch 0 Iter: 500 Loss 0.12315428256988525\n",
      "Epoch 0 Iter: 1000 Loss 0.27355486154556274\n",
      "Epoch 0 Iter: 1500 Loss 0.19797652959823608\n",
      "Epoch 0 Iter: 2000 Loss 0.11937451362609863\n",
      "Epoch 0 Iter: 2500 Loss 1.3180737495422363\n",
      "Epoch 0 Iter: 3000 Loss 0.5733668804168701\n",
      "Epoch 0 Iter: 3500 Loss 0.022939205169677734\n",
      "Epoch 0 Iter: 4000 Loss 0.10624265670776367\n",
      "Epoch 0 Iter: 4500 Loss 0.32269287109375\n",
      "Epoch 0 Iter: 5000 Loss 0.00554811954498291\n",
      "Epoch 0 Iter: 5500 Loss 0.20479059219360352\n",
      "Epoch 0 Iter: 6000 Loss 0.022185683250427246\n",
      "Epoch 0 Iter: 6500 Loss 0.041847407817840576\n",
      "Epoch 0 Iter: 7000 Loss 0.06954514980316162\n",
      "Epoch 0 Iter: 7500 Loss 0.00995945930480957\n",
      "Epoch 0 Iter: 8000 Loss 0.09848421812057495\n",
      "Epoch 0 Iter: 8500 Loss 0.00448453426361084\n",
      "Epoch 0 Iter: 9000 Loss 0.008963227272033691\n",
      "Epoch 0 Iter: 9500 Loss 0.02578192949295044\n",
      "Epoch 0 Iter: 10000 Loss 0.004914045333862305\n",
      "Epoch 0 Iter: 10500 Loss 1.4364607334136963\n",
      "Epoch 0 Iter: 11000 Loss 0.0404353141784668\n",
      "Epoch 0 Iter: 11500 Loss 0.003002762794494629\n",
      "Epoch 0 Iter: 12000 Loss 0.7548469305038452\n",
      "Epoch 0 Iter: 12500 Loss 0.002043008804321289\n",
      "Epoch 0 Iter: 13000 Loss 0.09219479560852051\n",
      "Epoch 0 Iter: 13500 Loss 0.0067255496978759766\n",
      "Epoch 0 Iter: 14000 Loss 0.409676194190979\n",
      "Epoch 0 Iter: 14500 Loss 0.008940458297729492\n",
      "Epoch 1 Iter: 0 Loss 0.13097059726715088\n",
      "Epoch 1 Iter: 500 Loss 0.08075040578842163\n",
      "Epoch 1 Iter: 1000 Loss 0.0789598822593689\n",
      "Epoch 1 Iter: 1500 Loss 0.07522368431091309\n",
      "Epoch 1 Iter: 2000 Loss 0.028467237949371338\n",
      "Epoch 1 Iter: 2500 Loss 0.0059441328048706055\n",
      "Epoch 1 Iter: 3000 Loss 0.018410921096801758\n",
      "Epoch 1 Iter: 3500 Loss 0.05136960744857788\n",
      "Epoch 1 Iter: 4000 Loss 0.009801268577575684\n",
      "Epoch 1 Iter: 4500 Loss 0.05542159080505371\n",
      "Epoch 1 Iter: 5000 Loss 0.03602343797683716\n",
      "Epoch 1 Iter: 5500 Loss 0.007740974426269531\n",
      "Epoch 1 Iter: 6000 Loss 0.1637621521949768\n",
      "Epoch 1 Iter: 6500 Loss 0.0008903741836547852\n",
      "Epoch 1 Iter: 7000 Loss 0.004818558692932129\n",
      "Epoch 1 Iter: 7500 Loss 0.06691169738769531\n",
      "Epoch 1 Iter: 8000 Loss 0.0010306835174560547\n",
      "Epoch 1 Iter: 8500 Loss 0.002672433853149414\n",
      "Epoch 1 Iter: 9000 Loss 0.017661869525909424\n",
      "Epoch 1 Iter: 9500 Loss 2.5033950805664062e-05\n",
      "Epoch 1 Iter: 10000 Loss 0.013769865036010742\n",
      "Epoch 1 Iter: 10500 Loss 0.0025058984756469727\n",
      "Epoch 1 Iter: 11000 Loss 0.08055758476257324\n",
      "Epoch 1 Iter: 11500 Loss 0.051490843296051025\n",
      "Epoch 1 Iter: 12000 Loss 5.042552947998047e-05\n",
      "Epoch 1 Iter: 12500 Loss 0.47020018100738525\n",
      "Epoch 1 Iter: 13000 Loss 0.00245511531829834\n",
      "Epoch 1 Iter: 13500 Loss 0.14051032066345215\n",
      "Epoch 1 Iter: 14000 Loss 0.006453335285186768\n",
      "Epoch 1 Iter: 14500 Loss 0.01865246891975403\n",
      "Epoch 2 Iter: 0 Loss 0.0012974739074707031\n",
      "Epoch 2 Iter: 500 Loss 0.022809267044067383\n",
      "Epoch 2 Iter: 1000 Loss 0.2555362284183502\n",
      "Epoch 2 Iter: 1500 Loss 0.0005691051483154297\n",
      "Epoch 2 Iter: 2000 Loss 1.6739697456359863\n",
      "Epoch 2 Iter: 2500 Loss 0.0011223554611206055\n",
      "Epoch 2 Iter: 3000 Loss 0.017247498035430908\n",
      "Epoch 2 Iter: 3500 Loss 0.1893690824508667\n",
      "Epoch 2 Iter: 4000 Loss 0.20644605159759521\n",
      "Epoch 2 Iter: 4500 Loss 0.00014829635620117188\n",
      "Epoch 2 Iter: 5000 Loss 0.0031902194023132324\n",
      "Epoch 2 Iter: 5500 Loss 6.508827209472656e-05\n",
      "Epoch 2 Iter: 6000 Loss 0.00427478551864624\n",
      "Epoch 2 Iter: 6500 Loss 0.0032018423080444336\n",
      "Epoch 2 Iter: 7000 Loss 0.02210104465484619\n",
      "Epoch 2 Iter: 7500 Loss 0.00044596195220947266\n",
      "Epoch 2 Iter: 8000 Loss 0.04688990116119385\n",
      "Epoch 2 Iter: 8500 Loss 0.0019412040710449219\n",
      "Epoch 2 Iter: 9000 Loss 0.04879683256149292\n",
      "Epoch 2 Iter: 9500 Loss 0.004187583923339844\n",
      "Epoch 2 Iter: 10000 Loss 0.06578835844993591\n",
      "Epoch 2 Iter: 10500 Loss 0.008633971214294434\n",
      "Epoch 2 Iter: 11000 Loss 0.1966876983642578\n",
      "Epoch 2 Iter: 11500 Loss 0.001170039176940918\n",
      "Epoch 2 Iter: 12000 Loss 0.0003746151924133301\n",
      "Epoch 2 Iter: 12500 Loss 0.006283760070800781\n",
      "Epoch 2 Iter: 13000 Loss 0.0009174346923828125\n",
      "Epoch 2 Iter: 13500 Loss 0.5940966606140137\n",
      "Epoch 2 Iter: 14000 Loss 0.0009891986846923828\n",
      "Epoch 2 Iter: 14500 Loss 0.023622632026672363\n"
     ]
    }
   ],
   "source": [
    "net = Net()\n",
    "net.to(device)\n",
    "\n",
    "criterion = nn.CrossEntropyLoss()\n",
    "\n",
    "train(net, criterion, trainloader, 0.001)"
   ]
  },
  {
   "cell_type": "markdown",
   "metadata": {
    "colab_type": "text",
    "id": "12zEbgnwLBdg"
   },
   "source": [
    "Let's load a sample image from the test dataset, and see what the classifier makes of it. Make sure to visualize the image using `imshow(x[0,0])`. Also, note that the line `test_iter.next()` pulls a new input image from the test set each time you run it; try running the next code block a few times to get a sense of what the MNIST dataset looks like, and how the classifier performs on it."
   ]
  },
  {
   "cell_type": "code",
   "execution_count": 0,
   "metadata": {
    "colab": {},
    "colab_type": "code",
    "id": "NFBwByD1LBdi"
   },
   "outputs": [],
   "source": [
    "test_iter = iter(testloader)"
   ]
  },
  {
   "cell_type": "code",
   "execution_count": 51,
   "metadata": {
    "colab": {
     "base_uri": "https://localhost:8080/",
     "height": 316
    },
    "colab_type": "code",
    "id": "sB_m2TzpONdu",
    "outputId": "0f9bb58b-1662-4278-f220-865978e31d74"
   },
   "outputs": [
    {
     "data": {
      "image/png": "[encoded data removed]",
      "text/plain": [
       "<Figure size 432x288 with 1 Axes>"
      ]
     },
     "metadata": {
      "needs_background": "light",
      "tags": []
     },
     "output_type": "display_data"
    },
    {
     "name": "stdout",
     "output_type": "stream",
     "text": [
      "Classifier output: tensor([[-13.0860, -12.7495,  -6.1859,  -0.7290, -22.6499,  -7.4789, -36.9544,\n",
      "           7.4793, -10.2039,  -2.5041]], device='cuda:0')\n",
      "Classifier prediction: 7\n"
     ]
    }
   ],
   "source": [
    "x, labels = test_iter.next()\n",
    "x = x[0].unsqueeze(0)\n",
    "labels = labels[0].unsqueeze(0)\n",
    "imshow(x[0,0])\n",
    "\n",
    "x = x.to(device)\n",
    "labels = labels.to(device)\n",
    "\n",
    "out = net(x).data\n",
    "print('Classifier output:', out)\n",
    "print('Classifier prediction:', torch.argmax(out).item())"
   ]
  },
  {
   "cell_type": "markdown",
   "metadata": {
    "colab_type": "text",
    "id": "b6nekayzLygn"
   },
   "source": [
    "We can also measure the classifier's accuracy on the full test dataset. This function takes in a classifier we have trained and the loader for the test set, and outputs the classifier's accuracy. The accuracy is simply\n",
    "$$ \\dfrac{\\text{# correct}}{\\text{# total}}.$$"
   ]
  },
  {
   "cell_type": "code",
   "execution_count": 0,
   "metadata": {
    "colab": {},
    "colab_type": "code",
    "id": "Lk4pq6hiLygr"
   },
   "outputs": [],
   "source": [
    "def accuracy(net, testloader):\n",
    "    '''\n",
    "    Returns the accuracy of classifier NET\n",
    "    on test data from TESTLOADER.\n",
    "    '''\n",
    "    correct = 0\n",
    "    total = 0\n",
    "    with torch.no_grad():\n",
    "        for data in testloader:\n",
    "            images, labels = data[0].to(device), data[1].to(device)\n",
    "            outputs = net(images)\n",
    "            _, predicted = torch.max(outputs.data, 1)\n",
    "            total += labels.size(0)\n",
    "            correct += (predicted == labels).sum().item()\n",
    "\n",
    "    return correct / total"
   ]
  },
  {
   "cell_type": "code",
   "execution_count": 53,
   "metadata": {
    "colab": {
     "base_uri": "https://localhost:8080/",
     "height": 34
    },
    "colab_type": "code",
    "id": "kXpxjHkqLBd8",
    "outputId": "fd398026-a318-4f65-b817-9893cb5a9287"
   },
   "outputs": [
    {
     "name": "stdout",
     "output_type": "stream",
     "text": [
      "Classifier accuracy on original test dataset: 0.9712\n"
     ]
    }
   ],
   "source": [
    "print('Classifier accuracy on original test dataset:', accuracy(net, testloader))"
   ]
  },
  {
   "cell_type": "markdown",
   "metadata": {
    "colab_type": "text",
    "id": "rrvBEzmZLBeD"
   },
   "source": [
    "## Fast Gradient Sign Method"
   ]
  },
  {
   "cell_type": "markdown",
   "metadata": {
    "colab_type": "text",
    "id": "p5ZlWjqILygz"
   },
   "source": [
    "Here, we implement the Fast Gradient Sign Method, which takes in a batch of input images, their labels, a trained classifier, and the epsilon radius within which the perturbation should lie. This function should output the input image perturbed in the direction of the sign of the gradient with respect to the classifier's loss.\n",
    "\n",
    "(Note that the output is not guaranteed to lie in the valid range for images, since here pixel values must be in $[-1,1]$. You should use `torch.clamp` to fix the FGSM output to lie in the correct range.)"
   ]
  },
  {
   "cell_type": "code",
   "execution_count": 0,
   "metadata": {
    "colab": {},
    "colab_type": "code",
    "id": "CaSK1tjSLyg2"
   },
   "outputs": [],
   "source": [
    "def FGSM(x, labels, net, eps):\n",
    "    '''\n",
    "    Given an input image X and its corresponding labels\n",
    "    LABELS, as well as a classifier NET, returns X\n",
    "    perturbed by EPS using the fast gradient sign method.\n",
    "    '''\n",
    "    net.zero_grad()    # Zero out any gradients from before\n",
    "    x.requires_grad=True    # Keep track of gradients\n",
    "    out = net(x)    # Output of classifier\n",
    "    criterion = nn.CrossEntropyLoss()\n",
    "    loss = criterion(out, labels)   # Classifier's loss\n",
    "    loss.backward()\n",
    "    grads = x.grad.data    # Gradient of loss w/r/t input\n",
    "    x_next = torch.clamp(x + eps * torch.abs(grads), min = -1, max = 1)\n",
    "    return x_next"
   ]
  },
  {
   "cell_type": "markdown",
   "metadata": {
    "colab_type": "text",
    "id": "AB8K0vMsLBeU"
   },
   "source": [
    "Let's see how well the classifier does when the input is adversarially perturbed using FGSM. Try this for $\\varepsilon\\in\\{0.05, 0.1,0.2,0.3, 0.4\\}$, and again remember to visualize the inputs with `imshow`."
   ]
  },
  {
   "cell_type": "code",
   "execution_count": 0,
   "metadata": {
    "colab": {},
    "colab_type": "code",
    "id": "WhqJDeMS6T5m"
   },
   "outputs": [],
   "source": [
    "#eps =  # TODO: Try eps = 0.05, 0.1, 0.2, 0.3, 0.4"
   ]
  },
  {
   "cell_type": "code",
   "execution_count": 67,
   "metadata": {
    "colab": {
     "base_uri": "https://localhost:8080/",
     "height": 1000
    },
    "colab_type": "code",
    "id": "dbS2KvG6Lyh6",
    "outputId": "80e3a1c7-e64b-4dab-aabd-dbfab98297a2"
   },
   "outputs": [
    {
     "name": "stdout",
     "output_type": "stream",
     "text": [
      "=================\n",
      "epsilon: 0.05\n",
      "Classifier output: tensor([[-13.0861, -12.7495,  -6.1858,  -0.7275, -22.6481,  -7.4780, -36.9536,\n",
      "           7.4780, -10.2011,  -2.5030]], device='cuda:0')\n",
      "Classifier prediction: 7\n",
      "0 20.564090728759766\n",
      "1 20.227432250976562\n",
      "2 13.663785934448242\n",
      "3 8.205513000488281\n",
      "4 30.126083374023438\n",
      "5 14.956001281738281\n",
      "6 44.43156814575195\n",
      "8 17.67905616760254\n",
      "9 9.980976104736328\n",
      "=================\n",
      "epsilon: 0.1\n",
      "Classifier output: tensor([[-13.0862, -12.7494,  -6.1857,  -0.7259, -22.6462,  -7.4771, -36.9527,\n",
      "           7.4765, -10.1980,  -2.5017]], device='cuda:0')\n",
      "Classifier prediction: 7\n",
      "0 20.562711715698242\n",
      "1 20.225910186767578\n",
      "2 13.662158966064453\n",
      "3 8.202377319335938\n",
      "4 30.12264633178711\n",
      "5 14.953545570373535\n",
      "6 44.42918014526367\n",
      "8 17.674474716186523\n",
      "9 9.9782133102417\n",
      "=================\n",
      "epsilon: 0.2\n",
      "Classifier output: tensor([[-13.0865, -12.7494,  -6.1854,  -0.7225, -22.6421,  -7.4751, -36.9508,\n",
      "           7.4733, -10.1915,  -2.4991]], device='cuda:0')\n",
      "Classifier prediction: 7\n",
      "0 20.559818267822266\n",
      "1 20.22270393371582\n",
      "2 13.658737182617188\n",
      "3 8.19577693939209\n",
      "4 30.115398406982422\n",
      "5 14.948369979858398\n",
      "6 44.42414093017578\n",
      "8 17.66482925415039\n",
      "9 9.97239875793457\n",
      "=================\n",
      "epsilon: 0.3\n",
      "Classifier output: tensor([[-13.0868, -12.7493,  -6.1851,  -0.7187, -22.6376,  -7.4728, -36.9487,\n",
      "           7.4699, -10.1844,  -2.4962]], device='cuda:0')\n",
      "Classifier prediction: 7\n",
      "0 20.55663299560547\n",
      "1 20.219175338745117\n",
      "2 13.654973983764648\n",
      "3 8.188516616821289\n",
      "4 30.107425689697266\n",
      "5 14.942681312561035\n",
      "6 44.41859436035156\n",
      "8 17.654218673706055\n",
      "9 9.966001510620117\n",
      "=================\n",
      "epsilon: 0.4\n",
      "Classifier output: tensor([[-13.0871, -12.7493,  -6.1848,  -0.7145, -22.6327,  -7.4704, -36.9465,\n",
      "           7.4661, -10.1766,  -2.4930]], device='cuda:0')\n",
      "Classifier prediction: 7\n",
      "0 20.55316162109375\n",
      "1 20.215328216552734\n",
      "2 13.65086841583252\n",
      "3 8.180598258972168\n",
      "4 30.098731994628906\n",
      "5 14.936477661132812\n",
      "6 44.41255569458008\n",
      "8 17.64264678955078\n",
      "9 9.959026336669922\n"
     ]
    }
   ],
   "source": [
    "# We are using the same sample input x as before.\n",
    "for eps in [0.05, 0.1, 0.2, 0.3, 0.4]:\n",
    "  x.requires_grad = True\n",
    "  x_prime = FGSM(x, labels, net, eps)\n",
    "  #imshow(x_prime[0,0].cpu())\n",
    "  out = net(x_prime)\n",
    "  print('=================')\n",
    "  print('epsilon: '+str(eps))\n",
    "  print('Classifier output:', out.data)\n",
    "  print('Classifier prediction:', torch.argmax(out).item())\n",
    "  for i in range(10):\n",
    "    c = torch.zeros(10, 1).to(device)\n",
    "    if i != labels:\n",
    "        c[i] = -1\n",
    "        c[labels] = 1\n",
    "        print(i, (out @ c).item())"
   ]
  },
  {
   "cell_type": "markdown",
   "metadata": {
    "colab_type": "text",
    "id": "64qakoWaLBec"
   },
   "source": [
    "We should evaluate the classifier's performance on FGSM-perturbed data by the same metric that we will later use in the primal adversarial problem. That is, for the classifier's output vector $\\vec{\\hat{z}}_3$, we want to compute\n",
    "$$\n",
    "\\vec{c}_j^\\top \\vec{\\hat{z}}_3\n",
    "$$\n",
    "where\n",
    "$$\\vec{c}_j={\\vec{y}_{\\text{true}}}-\\vec{e}_{j}$$\n",
    "for each $j\\in[10]$.\n",
    "\n",
    "Recall that \n",
    "$$\\vec{c}_j^\\top \\vec{\\hat{z}}_3=\\vec{\\hat{z}}_{3i_{\\text{true}}}-\\vec{\\hat{z}}_{3j},$$\n",
    "i.e. $\\vec{c}_j^\\top \\vec{\\hat{z}}_3$ is the difference between the classifier's confidence on the true class and the $j$th (incorrect) class. If $\\vec{c}_j^\\top \\vec{\\hat{z}}_3$ is positive for all incorrect $j$, then the classifier was not fooled by the adversarial perturbation."
   ]
  },
  {
   "cell_type": "code",
   "execution_count": 57,
   "metadata": {
    "colab": {
     "base_uri": "https://localhost:8080/",
     "height": 170
    },
    "colab_type": "code",
    "id": "qpFjSe3ULBee",
    "outputId": "c9ff44af-f55c-42b2-e0f9-41d48c4c534e"
   },
   "outputs": [
    {
     "name": "stdout",
     "output_type": "stream",
     "text": [
      "0 20.562423706054688\n",
      "1 20.2255859375\n",
      "2 13.66181755065918\n",
      "3 8.201717376708984\n",
      "4 30.12192153930664\n",
      "5 14.953027725219727\n",
      "6 44.428672790527344\n",
      "8 17.67350959777832\n",
      "9 9.977631568908691\n"
     ]
    }
   ],
   "source": [
    "for i in range(10):\n",
    "    c = torch.zeros(10, 1).to(device)\n",
    "    if i != labels:\n",
    "        c[i] = -1\n",
    "        c[labels] = 1\n",
    "        print(i, (out @ c).item())"
   ]
  },
  {
   "cell_type": "markdown",
   "metadata": {
    "colab_type": "text",
    "id": "q4JTyFqQLBeo"
   },
   "source": [
    "**Q: What do the $\\vec{c}_j^\\top \\vec{\\hat{z}}_3$ scores tell you about the robustness of the classifier to different values of epsilon? For a given input digit, which output categories have higher/lower scores? Why?**\n",
    "\n",
    "A: The $\\vec{c}_j^\\top \\vec{\\hat{z}}_3$ score decreases with the value of epsilon increasing, which indicates that the robustness of the classifier to  a smaller epsilon value is better than that to a larger epsilon value.  \n",
    "Given the input digit is 7, 5 & 6 have higher scores and 2 & 9 have lower scores because 5 & 6 have features that are least similar to 7 and 2 & 9 have features that are most similar to 7. The larger the score is, the more confident the classifier is that the input digit is not of this output class."
   ]
  },
  {
   "cell_type": "markdown",
   "metadata": {
    "colab_type": "text",
    "id": "LaGNmioNLyg_"
   },
   "source": [
    "Now that FGSM is defined, we can also measure a classifier's accuracy on a dataset where each input has been adversarially perturbed. That is, for each point in the original test dataset, we first perturb it using FGSM before feeding it to the classifier."
   ]
  },
  {
   "cell_type": "code",
   "execution_count": 0,
   "metadata": {
    "colab": {},
    "colab_type": "code",
    "id": "ik9xXp3hLyhB"
   },
   "outputs": [],
   "source": [
    "def accuracy_on_FGSM(net, testloader, eps):\n",
    "    '''\n",
    "    Returns the accuracy of classifier NET on test\n",
    "    data from TESTLOADER that has been perturbed by\n",
    "    EPS using FSGM.\n",
    "    '''\n",
    "    correct = 0\n",
    "    total = 0\n",
    "    for data in testloader:\n",
    "        x, labels = data[0].to(device), data[1].to(device)\n",
    "        x_prime = FGSM(x, labels, net, eps)\n",
    "        outputs = net(x_prime)\n",
    "        _, predicted = torch.max(outputs.data, 1)\n",
    "        total += labels.size(0)\n",
    "        correct += (predicted == labels).sum().item()\n",
    "\n",
    "    return correct / total"
   ]
  },
  {
   "cell_type": "code",
   "execution_count": 0,
   "metadata": {
    "colab": {},
    "colab_type": "code",
    "id": "PDD_z76ALBew"
   },
   "outputs": [],
   "source": [
    "testloader = torch.utils.data.DataLoader(testset, batch_size=4,\n",
    "                                         shuffle=False, num_workers=2)\n",
    "x_plot = []\n",
    "y_plot = []\n",
    "for eps in np.array(range(0,31), dtype=float)/10:\n",
    "  #print('Classifier accuracy on test dataset perturbed with FGSM, eps is {} :'.format(str(eps)), accuracy_on_FGSM(net, testloader, eps))\n",
    "  cury = accuracy_on_FGSM(net, testloader, eps)\n",
    "  x_plot.append(eps)\n",
    "  y_plot.append(cury)\n"
   ]
  },
  {
   "cell_type": "code",
   "execution_count": 62,
   "metadata": {
    "colab": {
     "base_uri": "https://localhost:8080/",
     "height": 312
    },
    "colab_type": "code",
    "id": "Kk2zLvJCLPs3",
    "outputId": "b9765e80-9e0c-42ac-8f26-502ca9127c75"
   },
   "outputs": [
    {
     "data": {
      "text/plain": [
       "[<matplotlib.lines.Line2D at 0x7f68d50a44a8>]"
      ]
     },
     "execution_count": 62,
     "metadata": {
      "tags": []
     },
     "output_type": "execute_result"
    },
    {
     "data": {
      "image/png": "[encoded data removed]",
      "text/plain": [
       "<Figure size 432x288 with 1 Axes>"
      ]
     },
     "metadata": {
      "needs_background": "light",
      "tags": []
     },
     "output_type": "display_data"
    }
   ],
   "source": [
    "plt.title('epsilon-accuracy')\n",
    "plt.xlabel('epsilon')\n",
    "plt.ylabel('accuracy')\n",
    "plt.plot(x_plot,y_plot)"
   ]
  },
  {
   "cell_type": "markdown",
   "metadata": {
    "colab_type": "text",
    "id": "Dj-7r-oqLBe1"
   },
   "source": [
    "**Q: How does the classifier accuracy on data perturbed by FGSM compare to that on the original test dataset? How does this vary with epsilon?**\n",
    "\n",
    "A: It is plotted above."
   ]
  },
  {
   "cell_type": "markdown",
   "metadata": {
    "colab_type": "text",
    "id": "jDwEDxf9LBe7"
   },
   "source": [
    "## Dual Network"
   ]
  },
  {
   "cell_type": "markdown",
   "metadata": {
    "colab_type": "text",
    "id": "AkVG-qEuLyhK"
   },
   "source": [
    "Here, we will implement the dual network. First, we write the function to compute upper and lower bounds for the dual network. This function should take an input image, the trained classifier, and an epsilon value, and return the tuple\n",
    "$$(\\vec{l},\\vec{u},S,S^-,S^+)$$\n",
    "where $\\vec{u}$ and $\\vec{l}$ are the upper and lower bounds, respectively, for the input to the ReLU layer, and $S^-,S^+,S$ are sets defined by\n",
    "\n",
    "$$\n",
    "\\begin{aligned}\n",
    "&S:=\\{j\\in [n_2]\\mid l_{j}\\leq 0\\leq u_{j}\\}\\\\\n",
    "&S^{-}:=\\{j\\in [n_2]\\mid l_{j}\\leq u_{j}\\leq 0\\}\\\\\n",
    "&S^{+}:=\\{j\\in [n_2]\\mid 0\\leq l_{j}\\leq u_{j}\\}.\n",
    "\\end{aligned}\n",
    "$$\n",
    "\n",
    "See Section 6 of the PDF for more details."
   ]
  },
  {
   "cell_type": "code",
   "execution_count": 0,
   "metadata": {
    "colab": {},
    "colab_type": "code",
    "id": "_0QHBHTHLyhO"
   },
   "outputs": [],
   "source": [
    "def dual_bounds(x, net, eps):\n",
    "    '''\n",
    "    Given a classifier NET, an input image X,\n",
    "    and the epsilon parameter EPS, returns the lower\n",
    "    and upper bounds L and U respectively, as well as\n",
    "    the corresponding sets S, S_MIN, S_PLUS.\n",
    "    '''\n",
    "    x = torch.tensor(x[0].reshape(-1, 1)).to(device)    # Reshape input to more convenient dimensions\n",
    "    W = [layer.weight for layer in net.layers]    # Array of network weights (W matrices)\n",
    "    b = [layer.bias.reshape(-1, 1) for layer in net.layers]    # Array of network biases (b vectors)\n",
    "    n = W[1].shape[1]    # Dimensionality of hidden layer\n",
    "    b0 = b[0].to(device)\n",
    "    W0 = W[0].to(device)\n",
    "    factor = torch.norm(W[0],p=1,dim=1).reshape(-1,1)\n",
    "    #print(factor.shape)\n",
    "    u = W[0].mm(x) + b[0]+eps *factor\n",
    "    l = W[0].mm(x) + b[0] - eps *factor\n",
    "    \n",
    "    S = ((u>=0) & (l<=0)).clone().detach()\n",
    "    S_plus = (l>=0).clone().detach()\n",
    "    S_min = (u<=0).clone().detach()\n",
    "    return l, u, S, S_min, S_plus"
   ]
  },
  {
   "cell_type": "markdown",
   "metadata": {
    "colab_type": "text",
    "id": "VaMhcqTvLyhX"
   },
   "source": [
    "Given the tuple $(l,u,S,S^-,S^+)$, we are ready to calculate the dual objective itself. This function should take in an input image, the classifier, a vector $c$, and the $(l,u,S,S^-,S^+)$ from the previous function in order to output \n",
    "$$\n",
    "d^*(\\vec{x},\\vec{c})= \n",
    "-\\vec{\\hat{\\nu}}_1^\\top \\vec{x}-\\varepsilon\\|\\vec{\\hat{\\nu}}_1\\|_1-\\sum_{i=1}^{2}\\vec{\\nu}_{i+1}^\\top \\vec{b}_i+\\sum_{j\\in S\\\n",
    "}l_{j}\\text{ReLU}(\\nu_{2j})\n",
    "$$\n",
    "\n",
    "Where the $\\vec{\\nu}$ vectors are computed as\n",
    "$$\n",
    "\\begin{aligned}\n",
    "&\\vec{\\nu}_3=-\\vec{c}\\\\\n",
    "&\\vec{\\hat{\\nu}}_2=W_2^\\top \\vec{\\nu}_{3}\\\\\n",
    "&\\nu_{2j}=0 && \\forall j\\in S^-\\\\\n",
    "&\\nu_{2j}=\\hat{\\nu}_{2j} && \\forall j\\in S^+\\\\\n",
    "&\\nu_{2j}=\\dfrac{u_{j}}{u_{j}-l_{j}}\\hat{\\nu}_{2j} && \\forall j\\in S\\\\\n",
    "&\\vec{\\hat{\\nu}}_1=W_1^\\top \\vec{\\nu_{2}}\n",
    "&\\end{aligned}.\n",
    "$$\n",
    "\n",
    "Again, see Section 6 of the PDF for more details.\n",
    "\n",
    "One efficient way to compute $\\vec{\\nu}_2$ is to rewrite it as\n",
    "$$\\vec{\\nu}_2= D\\vec{\\hat{\\nu}}_2,$$\n",
    "where $D$ is a diagonal matrix defined  by\n",
    "$$\n",
    "D_{jj}=\\begin{cases}\n",
    "0 & j\\in S^-\\\\\n",
    "\\hat{\\nu}_{2j} & j\\in S^+\\\\\n",
    "\\dfrac{u_{j}}{u_{j}-l_{j}}\\hat{\\nu}_{2j} & j\\in S.\n",
    "\\end{cases}\n",
    "$$"
   ]
  },
  {
   "cell_type": "code",
   "execution_count": 0,
   "metadata": {
    "colab": {},
    "colab_type": "code",
    "id": "chl5lue0Lyha"
   },
   "outputs": [],
   "source": [
    "# Constructs the diagonal D matrix from the S sets, n (the dimensionality\n",
    "# of the hidden layer), u, and l.\n",
    "def StoD(S_min, S_plus, S, n, u, l):\n",
    "    '''\n",
    "    Given upper and lower bounds U and L, as well\n",
    "    as the corresponding sets S_MIN, S_PLUS, and S,\n",
    "    as well as the dimension of the hidden layer N,\n",
    "    returns the corresponding diagonal matrix D.\n",
    "    '''\n",
    "    d = []\n",
    "    for j in range(n):\n",
    "        if S[j] and not (S_min[j] or S_plus[j]):\n",
    "            d.append((u[j] / (u[j] - l[j])).item())\n",
    "        elif S_plus[j] and not (S[j] or S_min[j]):\n",
    "            d.append(1)\n",
    "        elif S_min[j] and not (S[j] or S_plus[j]):\n",
    "            d.append(0)\n",
    "        else:\n",
    "            assert False, 'StoD error.'\n",
    "    return torch.diag(torch.Tensor(d)).to(device)\n",
    "\n",
    "def dual_forward(x, net, c, eps, l, u, S, S_min, S_plus):\n",
    "    '''\n",
    "    Calculates the dual objective for classifier NET with input X\n",
    "    and dual input C and epsilon parameter S. Depends on lower\n",
    "    and upper bounds L and U, as well as the corresponding sets\n",
    "    S, S_MIN, S_PLUS.\n",
    "    '''\n",
    "    x = x[0].reshape(-1, 1)    # Reshape input to more convenient dimensions\n",
    "    W = [layer.weight for layer in net.layers]    # Array of network weights (W matrices)\n",
    "    b = [layer.bias.reshape(-1, 1) for layer in net.layers]    # Array of network biases (b vectors)\n",
    "    n = W[1].shape[1]    # Dimensionality of hidden layer\n",
    "    D = StoD(S_min, S_plus, S, n, u, l)\n",
    "    # TODO: Your code here!\n",
    "    v3 = -1 * c.to(device)\n",
    "    v2_hat = torch.transpose(W[1],0,1).to(device).mm(v3).to(device)\n",
    "    #print(v2_hat)\n",
    "    v2 = D.mm(v2_hat).to(device)\n",
    "    v1_hat = torch.transpose(W[0],0,1).to(device).mm(v2).to(device)\n",
    "    d_star = -1 * torch.transpose(v1_hat,0,1).mm(x).to(device)\n",
    "    # print(torch.norm(v1_hat, 1, 0).shape)\n",
    "    # print('pre'+str(d_star.shape))\n",
    "    # print('norm'+str(torch.norm(v1_hat, 1, 0).shape))\n",
    "    d_star = d_star - eps * (torch.norm(v1_hat, 1, 1)[0])\n",
    "    # print(d_star.shape)\n",
    "    d_star = d_star - torch.transpose(v2, 0, 1).mm(b[0].to(device)) - torch.transpose(v3, 0, 1).mm(b[1].to(device))\n",
    "    # print(d_star.shape)\n",
    "    v2_reshape = v2[S].reshape(-1,1).to(device)\n",
    "    v2_relu = torch.where(v2_reshape<0, torch.zeros(v2_reshape.shape).to(device), v2_reshape).to(device)\n",
    "    d_star = d_star + l[S].reshape(1,-1).mm(v2_relu)\n",
    "    #print(l[S].reshape(1,-1).mm(v2_relu))\n",
    "    #print(torch.sum(l[S]))\n",
    "    # print('dstar '+str(d_star.shape))\n",
    "\n",
    "    return d_star"
   ]
  },
  {
   "cell_type": "markdown",
   "metadata": {
    "colab_type": "text",
    "id": "HagySRiNLyhu"
   },
   "source": [
    "Now, we can use the dual network to check the robustness of the network we just trained on sample input images. We can do this for \n",
    "$$\\vec{c}_j={\\vec{y}_{\\text{true}}}-\\vec{e}_{j}$$\n",
    "for each $j\\in[10]$.\n",
    "\n",
    "The output is a vector where the $j$th element is the difference between the model's confidence in the true class and the $j$th class; if $d^*(\\vec{x},\\vec{c}_j)$ is nonnegative for every $j\\in[10]$, then we know the model is robust to perturbations of size $\\varepsilon$. See Section 8 of the PDF for more details.\n",
    "\n",
    "Try running the following block of code for different values of $\\varepsilon\\in\\{0.05, 0.1, 0.2, 0.3, 0.4\\}$, and compare the robustness guarantees here with the classifier's performance on the FGSM data from before."
   ]
  },
  {
   "cell_type": "code",
   "execution_count": 0,
   "metadata": {
    "colab": {},
    "colab_type": "code",
    "id": "yMzFyrOr6T53"
   },
   "outputs": [],
   "source": [
    "eps = 0.05 # TODO: Try eps = 0.05, 0.1, 0.2, 0.3, 0.4"
   ]
  },
  {
   "cell_type": "code",
   "execution_count": 73,
   "metadata": {
    "colab": {
     "base_uri": "https://localhost:8080/",
     "height": 1000
    },
    "colab_type": "code",
    "id": "WY6TfL2GLyhw",
    "outputId": "27bf0d02-5926-4b7a-bd51-b84aa9303e46"
   },
   "outputs": [
    {
     "name": "stderr",
     "output_type": "stream",
     "text": [
      "/usr/local/lib/python3.6/dist-packages/ipykernel_launcher.py:8: UserWarning: To copy construct from a tensor, it is recommended to use sourceTensor.clone().detach() or sourceTensor.clone().detach().requires_grad_(True), rather than torch.tensor(sourceTensor).\n",
      "  \n"
     ]
    },
    {
     "name": "stdout",
     "output_type": "stream",
     "text": [
      "0.05\n",
      "0 19.53915786743164 20.56372833251953\n",
      "1 19.347139358520508 20.227033615112305\n",
      "2 12.508111953735352 13.663359642028809\n",
      "3 7.082707405090332 8.204689025878906\n",
      "4 28.81760597229004 30.12518310546875\n",
      "5 13.947456359863281 14.955357551574707\n",
      "6 43.09099578857422 44.43094253540039\n",
      "8 16.27264976501465 17.677852630615234\n",
      "9 8.88763427734375 9.980249404907227\n",
      "===============\n",
      "0.1\n",
      "0 16.215076446533203 20.563655853271484\n",
      "1 16.082265853881836 20.226951599121094\n",
      "2 9.771034240722656 13.663272857666016\n",
      "3 3.394176483154297 8.204524040222168\n",
      "4 24.488967895507812 30.124998092651367\n",
      "5 9.768722534179688 14.955225944519043\n",
      "6 39.670955657958984 44.430816650390625\n",
      "8 11.86845874786377 17.677610397338867\n",
      "9 4.873041152954102 9.980103492736816\n",
      "===============\n",
      "0.2\n",
      "0 1.580510139465332 20.563581466674805\n",
      "1 4.184932708740234 20.22687339782715\n",
      "2 -3.022064208984375 13.663187026977539\n",
      "3 -11.380857467651367 8.204357147216797\n",
      "4 8.692623138427734 30.124818801879883\n",
      "5 -7.031081199645996 14.955095291137695\n",
      "6 23.61827850341797 44.43069076538086\n",
      "8 -3.647027015686035 17.6773681640625\n",
      "9 -10.130411148071289 9.979957580566406\n",
      "===============\n",
      "0.3\n",
      "0 -18.1629638671875 20.56351089477539\n",
      "1 -14.541738510131836 20.226789474487305\n",
      "2 -22.909034729003906 13.663101196289062\n",
      "3 -32.05162811279297 8.204193115234375\n",
      "4 -14.3287353515625 30.124635696411133\n",
      "5 -28.885379791259766 14.95496654510498\n",
      "6 -1.6692161560058594 44.430564880371094\n",
      "8 -22.98923110961914 17.677125930786133\n",
      "9 -30.045822143554688 9.979812622070312\n",
      "===============\n",
      "0.4\n",
      "0 -36.52280807495117 20.563438415527344\n",
      "1 -33.67796325683594 20.226709365844727\n",
      "2 -43.184146881103516 13.663015365600586\n",
      "3 -52.25334548950195 8.204028129577637\n",
      "4 -36.942501068115234 30.124452590942383\n",
      "5 -51.369293212890625 14.95483684539795\n",
      "6 -26.28948211669922 44.4304313659668\n",
      "8 -42.08064651489258 17.676883697509766\n",
      "9 -49.66987991333008 9.979665756225586\n",
      "===============\n"
     ]
    }
   ],
   "source": [
    "\n",
    "def dual_estimate(eps):\n",
    "  # We are still using the same sample input x as before.\n",
    "  l, u, S, S_min, S_plus = dual_bounds(x, net, eps)\n",
    "\n",
    "  # Here, we loop through each column c_j defined above, and output the \n",
    "\n",
    "  # objective value for the dual function with input c.\n",
    "  for i in range(10):\n",
    "      c = torch.zeros(10, 1).to(device)\n",
    "      if i != labels:\n",
    "          c[i] = -1\n",
    "          c[labels] = 1\n",
    "          print(i, dual_forward(x, net, c, 0.1, l, u, S, S_min, S_plus).item(), (out@c).item())\n",
    "\n",
    "for e in [0.05, 0.1, 0.2, 0.3, 0.4]:\n",
    "  print(e)\n",
    "  x.requires_grad = True\n",
    "  x_prime = FGSM(x, labels, net, eps)\n",
    "  #imshow(x_prime[0,0].cpu())\n",
    "  out = net(x_prime)\n",
    "  dual_estimate(e)\n",
    "  print('===============')"
   ]
  },
  {
   "cell_type": "markdown",
   "metadata": {
    "colab_type": "text",
    "id": "v--Zs9ELLyiB"
   },
   "source": [
    "**Q: What do the dual network outputs tell you about the robustness of the classifier? How does this compare to the classifier's performance (in particular, the $\\vec{c}_j^\\top \\vec{\\hat{z}}_3$ scores) on FGSM outputs? How does your answer change with epsilon?**\n",
    "\n",
    "A: The dual outputs show that the robustness of the classifier is very bad. With a small perturbation, the confidence difference would be negative with a large magnitude. Compared with the FGSM outputs, the classifier is much more sensitive to perturbations. The larger epsilon is, the more negative(negative number with larger maginitude) the values are. "
   ]
  },
  {
   "cell_type": "markdown",
   "metadata": {
    "colab_type": "text",
    "id": "dr3xSI7EMv4l"
   },
   "source": [
    "**Q: Suppose you have a deep neural classifier that you want to defend against adversarial attacks. That is, you want to detect and discard any input images that were possibly adversarially perturbed. How might you do this with the robustness certificate you have implemented?**\n",
    "\n",
    "A: Using $c_j$ generated by all the classes that are different from the label to compute $d^*(\\vec{x}, \\vec{c_j})$. If the value is positive for all the classes, then there's no perturbation within the magnitude of $\\epsilon$ that can fool the classifier."
   ]
  },
  {
   "cell_type": "markdown",
   "metadata": {
    "colab_type": "text",
    "id": "s--Ae8VpLyiN"
   },
   "source": [
    "## Optional: Robust training"
   ]
  },
  {
   "cell_type": "markdown",
   "metadata": {
    "colab_type": "text",
    "id": "LohSkAUMLBfa"
   },
   "source": [
    "The following function should implement the robust loss from section A of the PDF. This loss is an upper bound on the worst-case loss within an $\\epsilon$ ball of the original training input. Thus, training using this new loss should result in a classifier that is more robust than one trained on the original cross-entropy loss.\n",
    "\n",
    "There are no mandatory questions here, but feel free to experiment with this robust training, and compare the performance here (measured by the dual objective certificate, as well as original/FGSM accuracy) to that of the original. You can also try training a model using the original loss first, then fine-tuning with the robust loss."
   ]
  },
  {
   "cell_type": "code",
   "execution_count": 0,
   "metadata": {
    "colab": {},
    "colab_type": "code",
    "id": "uTv9zjuqLyiQ"
   },
   "outputs": [],
   "source": [
    "def robust_loss(x, label, net, eps, criterion):\n",
    "    '''\n",
    "    Given a batch of input images X, its corresponding lables LABEL,\n",
    "    the classifier NET, epsilon value EPS, and original loss\n",
    "    function CRITERION, returns the robust loss of NET w/r/t\n",
    "    the original loss function, on the input image.\n",
    "    '''\n",
    "    l, u, S, S_min, S_plus = dual_bounds(x.to(device), net, eps)\n",
    "    # We assume there are 10 classes.\n",
    "    e_y = torch.zeros(10, 1)\n",
    "    e_y[label] = 1\n",
    "    c = e_y @ torch.ones(1, 10) - torch.eye(10)\n",
    "    J = dual_forward(x, net, c, eps, l, u, S, S_min, S_plus).unsqueeze(0)\n",
    "    return criterion(-J, label.unsqueeze(0))"
   ]
  },
  {
   "cell_type": "code",
   "execution_count": 0,
   "metadata": {
    "colab": {},
    "colab_type": "code",
    "id": "Nj_VkNaNLyiY"
   },
   "outputs": [],
   "source": [
    "def robust_train(net, criterion, trainloader, eps, lr=0.001):\n",
    "    '''\n",
    "    Trains the classifier NET using the robust version\n",
    "    of the original loss function CRITERION with paramater EPS,\n",
    "    using training data from TRAINLOADER and with learning rate LR.\n",
    "    \n",
    "    Note that we half the learning rate each epoch.\n",
    "    '''\n",
    "    optimizer = optim.Adam(net.parameters(), lr=lr)\n",
    "    \n",
    "    for epoch in range(3):\n",
    "        for i, data in enumerate(trainloader, 0):\n",
    "            for param_group in optimizer.param_groups:\n",
    "                param_group['lr'] = lr * 0.5 ** (epoch)\n",
    "\n",
    "            inputs, labels = data\n",
    "            optimizer.zero_grad()\n",
    "            loss = 0\n",
    "            for i in range(inputs.shape[0]):\n",
    "                x = inputs[i].unsqueeze(0).to(device)\n",
    "                label = labels[i].unsqueeze(0)\n",
    "                loss += robust_loss(x, label, net, eps, criterion)\n",
    "            loss.backward()\n",
    "            optimizer.step()\n",
    "    \n",
    "            if i % 500 == 0:\n",
    "                print('Epoch', epoch, 'Iter:', i, 'Loss', loss.item())"
   ]
  },
  {
   "cell_type": "code",
   "execution_count": 0,
   "metadata": {
    "colab": {},
    "colab_type": "code",
    "id": "6gIlu7953L0B"
   },
   "outputs": [],
   "source": []
  }
 ],
 "metadata": {
  "accelerator": "GPU",
  "colab": {
   "collapsed_sections": [],
   "name": "adversarial.ipynb",
   "provenance": []
  },
  "kernelspec": {
   "display_name": "Python 3",
   "language": "python",
   "name": "python3"
  },
  "language_info": {
   "codemirror_mode": {
    "name": "ipython",
    "version": 3
   },
   "file_extension": ".py",
   "mimetype": "text/x-python",
   "name": "python",
   "nbconvert_exporter": "python",
   "pygments_lexer": "ipython3",
   "version": "3.7.6"
  }
 },
 "nbformat": 4,
 "nbformat_minor": 1
}
